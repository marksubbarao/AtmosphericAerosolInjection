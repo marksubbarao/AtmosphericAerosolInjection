{
 "cells": [
  {
   "cell_type": "markdown",
   "metadata": {},
   "source": [
    "# Atmospheric Aerosol Injection\n",
    "\n",
    "A Geoengineering solution for climate change"
   ]
  },
  {
   "cell_type": "markdown",
   "metadata": {},
   "source": [
    "### Imports and function definitions"
   ]
  },
  {
   "cell_type": "code",
   "execution_count": 53,
   "metadata": {
    "collapsed": true
   },
   "outputs": [],
   "source": [
    "#This directory contains all the data needed for the module. It should be in the same directory as the notebook\n",
    "dataFolder = \"data\" \n",
    "import sys, os, shutil, errno, string, urllib\n",
    "\n",
    "\n",
    "sys.path.append(( os.path.abspath( os.path.join(os.path.realpath(\"__file__\"),  os.pardir, os.pardir) )))\n",
    "import uvmodlib.v1 as uvmod"
   ]
  },
  {
   "cell_type": "code",
   "execution_count": 54,
   "metadata": {
    "collapsed": true
   },
   "outputs": [],
   "source": [
    "# Run this if you want to build in 3.0 rather than 2.0\n",
    "from config import Settings\n",
    "Settings.uvcustommodulelocation='C:\\\\Users\\\\msubbarao\\\\SCISS\\\\Uniview Theater 3.0\\\\Custom Modules'"
   ]
  },
  {
   "cell_type": "markdown",
   "metadata": {},
   "source": [
    "### USES Conf Template "
   ]
  },
  {
   "cell_type": "code",
   "execution_count": 55,
   "metadata": {
    "collapsed": true
   },
   "outputs": [],
   "source": [
    "Template='''mesh\n",
    "{\n",
    "    data particleData    ./modules/$folderName/particles.raw\n",
    "\n",
    "    cullRadius $cr\n",
    "    glslVersion 330\n",
    "\n",
    "    propertyCollection\n",
    "    {\n",
    "        __objectName__\n",
    "        {            \n",
    "            vec1f simTime 0 | public | desc \"particles spread from simTim2 0 to 1\" | widget slider | range 1800 2100\n",
    "            vec1f particleSize 4.0 | public | desc \"population marker size\" | widget slider | range 0 6\n",
    "            vec4f particleColor 1 1 0 0.5 | public | desc \"population marker color\" | widget color_rgba \n",
    "        }\n",
    "\n",
    "    }\n",
    "\n",
    "    \n",
    "    pass #population\n",
    "    {\n",
    "        passEnable true\n",
    "\n",
    "        useDataObject particleData\n",
    "\n",
    "        shader\n",
    "        {\n",
    "            type defaultMeshShader\n",
    "            {        \n",
    "                stateManagerVar __objectName__.Alpha                uv_alpha\n",
    "                StateManagerVar __objectName__.simTime simTime\n",
    "                StateManagerVar __objectName__.particleSize particleSize\n",
    "                StateManagerVar __objectName__.particleColor particleColor\n",
    "\n",
    "                vertexShader ./modules/$folderName/aerosol_shader.vs\n",
    "                fragmentShader ./modules/$folderName/aerosol_shader.fs                \n",
    "                geometryShader ./modules/$folderName/aerosol_shader.gs\n",
    "\n",
    "                glState\n",
    "                {\n",
    "                    #UV_CULL_FACE_ENABLE true\n",
    "                    UV_DEPTH_ENABLE false\n",
    "                    UV_BLEND_ENABLE true\n",
    "                    UV_WRITE_MASK_DEPTH true\n",
    "                    #UV_BLEND_FUNC GL_ONE GL_ONE_MINUS_SRC_ALPHA\n",
    "                }\n",
    "             }\n",
    "        }\n",
    "    }\n",
    " \n",
    "}\n",
    "'''"
   ]
  },
  {
   "cell_type": "markdown",
   "metadata": {},
   "source": [
    "### Aerosol Class"
   ]
  },
  {
   "cell_type": "code",
   "execution_count": 56,
   "metadata": {
    "collapsed": true
   },
   "outputs": [],
   "source": [
    "class aerosolClass():\n",
    "    def __init__(self, object):\n",
    "        self.object = object\n",
    "        uvmod.Utility.ensurerelativepathexsists(\"aerosol_shader.gs\",dataFolder)\n",
    "        uvmod.Utility.ensurerelativepathexsists(\"aerosol_shader.vs\",dataFolder)\n",
    "        uvmod.Utility.ensurerelativepathexsists(\"aerosol_shader.fs\",dataFolder)\n",
    "        self.ColorMultiplier = \"1 1 1 1\"\n",
    "        self.Scale = 1\n",
    "        self.cr = 1000\n",
    "    def setColorMultiplier(self,ColorMultiplier):\n",
    "        self.ColorMultiplier = \" \".join(str(c) for c in ColorMultiplier)\n",
    "    def setScale(self,Scale):\n",
    "        self.Scale = Scale\n",
    "    def setRotationAngle(self,RotationAngle):\n",
    "        self.RotationAngle = RotationAngle\n",
    "    def generatemod(self):\n",
    "        self.object.setgeometry(self.object.name+\"Mesh.usesconf\")\n",
    "        return self.object.generatemod()\n",
    "    def generatefiles(self, absOutDir, relOutDir):\n",
    "        fileName = self.object.name+\"Mesh.usesconf\"\n",
    "        s = string.Template(Template)\n",
    "        f = open(absOutDir+\"\\\\\"+fileName, 'w')\n",
    "        if f:\n",
    "            f.write(s.substitute(folderName = relOutDir,\n",
    "                                 cr = self.cr,\n",
    "                                 ColorMultiplier = self.ColorMultiplier,\n",
    "                                 Scale = self.Scale))\n",
    "            f.close()\n",
    "        uvmod.Utility.copyfoldercontents(os.getcwd()+\"\\\\\"+dataFolder, absOutDir)"
   ]
  },
  {
   "cell_type": "markdown",
   "metadata": {},
   "source": [
    "### Object Instantiation"
   ]
  },
  {
   "cell_type": "code",
   "execution_count": 57,
   "metadata": {
    "collapsed": false
   },
   "outputs": [],
   "source": [
    "aerosol = aerosolClass(uvmod.OrbitalObject())\n",
    "generator = uvmod.Generator()\n",
    "scene = uvmod.Scene()\n",
    "modinfo = uvmod.ModuleInformation()"
   ]
  },
  {
   "cell_type": "markdown",
   "metadata": {},
   "source": [
    "### Specify Settings and generate the module"
   ]
  },
  {
   "cell_type": "code",
   "execution_count": 58,
   "metadata": {
    "collapsed": false
   },
   "outputs": [],
   "source": [
    "aerosol.object.showatstartup(True)\n",
    "aerosol.object.setcameraradius(10)\n",
    "aerosol.object.setcoord(\"Earth\")\n",
    "aerosol.object.setname(\"AtmosphericAerosolInjection\")\n",
    "aerosol.object.setguiname(\"/KavliLecture/Schrag/Atmospheric Aerosols\")\n",
    "aerosol.object.settargetradius(80)\n",
    "aerosol.object.showatstartup(False)\n",
    "aerosol.setColorMultiplier((1.,1.,1.,1.))\n",
    "aerosol.setScale(100)\n",
    "aerosol.cr = 10000\n",
    "aerosol.object.custom = \"bin 9999\"\n",
    "aerosol.object.custom += \"\"\"\n",
    "    rotation\n",
    "\t{\n",
    "\t\tspice\n",
    "\t\t{\n",
    "\t\t\tframe\t\tIAU_EARTH \n",
    "\t\t\treference\tECLIPJ2000\n",
    "\t\t}\n",
    "\t}\"\"\"\n",
    "\n",
    "\n",
    "modinfo.setname(\"Atmospheric Aerosol Injection\")\n",
    "modinfo.setauthor(\"Mark SubbaRao<sup>1</sup> and Daniel Schrag<sup>2</sup><br />(1)Adler Planetarium,<br />(2)Harvard University\")\n",
    "modinfo.cleardependencies()\n",
    "modinfo.setdesc(\"An animation to illustrate injecting aerosol particles in the upper atmosphere to cool the planet \")\n",
    "#modinfo.setthumbnail(\"data/thumb.png\")\n",
    "modinfo.setversion(\"1.0\")\n",
    "\n",
    "generator.generate(\"AtmosphericAerosolInjection\",[],[aerosol],modinfo)\n",
    "uvmod.Utility.senduvcommand(aerosol.object.name+\".reload\")\n"
   ]
  },
  {
   "cell_type": "markdown",
   "metadata": {},
   "source": [
    "### Helper Functions for modifing code\n",
    "##### Reload Module and Shaders in Uniview"
   ]
  },
  {
   "cell_type": "code",
   "execution_count": 404,
   "metadata": {
    "collapsed": false,
    "scrolled": true
   },
   "outputs": [],
   "source": [
    "uvmod.Utility.senduvcommand(aerosol.object.name+\".reload\")\n"
   ]
  },
  {
   "cell_type": "markdown",
   "metadata": {},
   "source": [
    "Copy modified Shader files and reload"
   ]
  },
  {
   "cell_type": "code",
   "execution_count": 405,
   "metadata": {
    "collapsed": true
   },
   "outputs": [],
   "source": [
    "from config import Settings\n"
   ]
  },
  {
   "cell_type": "code",
   "execution_count": 60,
   "metadata": {
    "collapsed": false,
    "scrolled": true
   },
   "outputs": [],
   "source": [
    "uvmod.Utility.copyfoldercontents(os.getcwd()+\"\\\\\"+dataFolder, Settings.uvcustommodulelocation+'\\\\'+aerosol.object.name)\n",
    "uvmod.Utility.senduvcommand(aerosol.object.name+\".reload\")"
   ]
  },
  {
   "cell_type": "code",
   "execution_count": null,
   "metadata": {
    "collapsed": true
   },
   "outputs": [],
   "source": []
  }
 ],
 "metadata": {
  "anaconda-cloud": {},
  "kernelspec": {
   "display_name": "Python [default]",
   "language": "python",
   "name": "python3"
  },
  "language_info": {
   "codemirror_mode": {
    "name": "ipython",
    "version": 3
   },
   "file_extension": ".py",
   "mimetype": "text/x-python",
   "name": "python",
   "nbconvert_exporter": "python",
   "pygments_lexer": "ipython3",
   "version": "3.5.2"
  }
 },
 "nbformat": 4,
 "nbformat_minor": 1
}
